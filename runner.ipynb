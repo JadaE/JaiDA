{
 "cells": [
  {
   "cell_type": "code",
   "execution_count": null,
   "id": "47b7f142",
   "metadata": {},
   "outputs": [],
   "source": []
  },
  {
   "cell_type": "markdown",
   "id": "5f0b1bd0",
   "metadata": {},
   "source": [
    "# 🧠 Job Resume AI Assistant\n",
    "Welcome to your personal AI hackathon project! This notebook will guide you through building an AI assistant that helps tailor your resume to job descriptions using LangChain and Python."
   ]
  },
  {
   "cell_type": "markdown",
   "id": "64dcf184",
   "metadata": {},
   "source": [
    "## 1. 🛠️ Install Required Libraries"
   ]
  },
  {
   "cell_type": "code",
   "execution_count": 10,
   "id": "4e3dfe42",
   "metadata": {},
   "outputs": [
    {
     "name": "stderr",
     "output_type": "stream",
     "text": [
      "WARNING: Package(s) not found: langchain\n"
     ]
    }
   ],
   "source": [
    "#!pip install langchain langgraph openai \n",
    "#tiktoken chromadb faiss-cpu pypdf pylatexenc\n",
    "!pip show langchain"
   ]
  },
  {
   "cell_type": "markdown",
   "id": "d8854614",
   "metadata": {},
   "source": [
    "## 2. 🔑 Set Up API Keys"
   ]
  },
  {
   "cell_type": "code",
   "execution_count": 2,
   "id": "1510446e",
   "metadata": {},
   "outputs": [],
   "source": [
    "import os\n",
    "from keysNpasswords import openai\n",
    "\n",
    "# Set your OpenAI key here (or use dotenv or secret manager in production)\n",
    "os.environ['OPENAI_API_KEY'] = openai"
   ]
  },
  {
   "cell_type": "markdown",
   "id": "88d6db44",
   "metadata": {},
   "source": [
    "## 3. 📄 Load Your Resume (as Plaintext or Parsed from LaTeX)"
   ]
  },
  {
   "cell_type": "code",
   "execution_count": 2,
   "id": "b6ad8fa1",
   "metadata": {},
   "outputs": [],
   "source": [
    "from resumeRewritter import readResume\n",
    "\n",
    "# Load resume from LaTeX template or plaintext\n",
    "resume_text = readResume()"
   ]
  },
  {
   "cell_type": "markdown",
   "id": "9446ef5e",
   "metadata": {},
   "source": [
    "## 4. 📝 Input a Job Description"
   ]
  },
  {
   "cell_type": "code",
   "execution_count": null,
   "id": "089270f5",
   "metadata": {},
   "outputs": [
    {
     "name": "stdout",
     "output_type": "stream",
     "text": [
      "will work for pay\n"
     ]
    }
   ],
   "source": [
    "job_description = input(\"Paste a job description:\")\n",
    "\"\"\"Paste a job description here (or load from a file).\"\"\"\n",
    "#print(job_description)"
   ]
  },
  {
   "cell_type": "markdown",
   "id": "aca3624c",
   "metadata": {},
   "source": [
    "## 5. 🧠 Compare Resume to Job Using LangChain & Embeddings"
   ]
  },
  {
   "cell_type": "code",
   "execution_count": 9,
   "id": "f612ba83",
   "metadata": {},
   "outputs": [
    {
     "ename": "ModuleNotFoundError",
     "evalue": "No module named 'langchain'",
     "output_type": "error",
     "traceback": [
      "\u001b[31m---------------------------------------------------------------------------\u001b[39m",
      "\u001b[31mModuleNotFoundError\u001b[39m                       Traceback (most recent call last)",
      "\u001b[36mCell\u001b[39m\u001b[36m \u001b[39m\u001b[32mIn[9]\u001b[39m\u001b[32m, line 1\u001b[39m\n\u001b[32m----> \u001b[39m\u001b[32m1\u001b[39m \u001b[38;5;28;01mfrom\u001b[39;00m\u001b[38;5;250m \u001b[39m\u001b[34;01mlangchain\u001b[39;00m\u001b[34;01m.\u001b[39;00m\u001b[34;01membeddings\u001b[39;00m\u001b[38;5;250m \u001b[39m\u001b[38;5;28;01mimport\u001b[39;00m OpenAIEmbeddings\n\u001b[32m      2\u001b[39m \u001b[38;5;28;01mfrom\u001b[39;00m\u001b[38;5;250m \u001b[39m\u001b[34;01mlangchain\u001b[39;00m\u001b[34;01m.\u001b[39;00m\u001b[34;01mvectorstores\u001b[39;00m\u001b[38;5;250m \u001b[39m\u001b[38;5;28;01mimport\u001b[39;00m FAISS\n\u001b[32m      3\u001b[39m \u001b[38;5;28;01mfrom\u001b[39;00m\u001b[38;5;250m \u001b[39m\u001b[34;01mlangchain\u001b[39;00m\u001b[34;01m.\u001b[39;00m\u001b[34;01mtext_splitter\u001b[39;00m\u001b[38;5;250m \u001b[39m\u001b[38;5;28;01mimport\u001b[39;00m CharacterTextSplitter\n",
      "\u001b[31mModuleNotFoundError\u001b[39m: No module named 'langchain'"
     ]
    }
   ],
   "source": [
    "from langchain.embeddings import OpenAIEmbeddings\n",
    "from langchain.vectorstores import FAISS\n",
    "from langchain.text_splitter import CharacterTextSplitter\n",
    "\n",
    "# Split and embed\n",
    "splitter = CharacterTextSplitter(chunk_size=500, chunk_overlap=50)\n",
    "texts = splitter.split_text(resume_text + \"\\n\\n\" + job_description)\n",
    "\n",
    "embeddings = OpenAIEmbeddings()\n",
    "vectorstore = FAISS.from_texts(texts, embeddings)"
   ]
  },
  {
   "cell_type": "code",
   "execution_count": null,
   "id": "47c65ff5",
   "metadata": {},
   "outputs": [],
   "source": [
    "# Search most relevant pieces\n",
    "query = \"What parts of my resume match or mismatch this job description?\"\n",
    "docs = vectorstore.similarity_search(query, k=5)\n",
    "for i, doc in enumerate(docs):\n",
    "    print(f\"Match {i+1}:\n",
    "\", doc.page_content, \"\\n\")\n"
   ]
  },
  {
   "cell_type": "markdown",
   "id": "91a158d9",
   "metadata": {},
   "source": [
    "## 6. ✍️ Rewrite Resume Sections with LLM"
   ]
  },
  {
   "cell_type": "code",
   "execution_count": null,
   "id": "b551f92d",
   "metadata": {},
   "outputs": [],
   "source": [
    "from langchain.chat_models import ChatOpenAI\n",
    "from langchain.prompts import PromptTemplate\n",
    "from langchain.chains import LLMChain\n",
    "\n",
    "template = \"\"\"You're a resume expert. Given a job description and an old resume section, rewrite it to better match the job. Make sure to limit the new resume to 1 page in length.\n",
    "\n",
    "Job Description:\n",
    "{job}\n",
    "\n",
    "Old Resume:\n",
    "{resume}\n",
    "\n",
    "Improved Resume:\n",
    "\"\"\"\n",
    "\n",
    "prompt = PromptTemplate(template=template, input_variables=[\"job\", \"resume\"])\n",
    "chain = LLMChain(llm=ChatOpenAI(temperature=0.4), prompt=prompt)\n",
    "\n",
    "new_summary = chain.run(job=job_description, resume=resume_text)\n",
    "print(new_summary)\n"
   ]
  },
  {
   "cell_type": "markdown",
   "id": "4dcec731",
   "metadata": {},
   "source": [
    "## 7. 📄 Export Updated Resume to LaTeX and PDF"
   ]
  },
  {
   "cell_type": "code",
   "execution_count": null,
   "id": "53564b0b",
   "metadata": {},
   "outputs": [],
   "source": [
    "from string import Template\n",
    "import subprocess\n",
    "\n",
    "with open(\"resume_template.tex\", \"r\") as f:\n",
    "    latex_template = Template(f.read())\n",
    "\n",
    "# Replace template fields with new content\n",
    "filled = latex_template.substitute(\n",
    "    summary=new_summary,\n",
    "    experience=\"TODO: Extract and rewrite experience\",\n",
    "    skills=\"TODO: Extract and rewrite skills\"\n",
    ")\n",
    "\n",
    "with open(\"output/final_resume.tex\", \"w\") as f:\n",
    "    f.write(filled)\n",
    "\n",
    "# Compile LaTeX to PDF\n",
    "subprocess.run([\"pdflatex\", \"-output-directory\", \"output\", \"output/final_resume.tex\"])\n",
    "print(\"✅ Resume PDF generated in output/final_resume.pdf\")\n"
   ]
  }
 ],
 "metadata": {
  "kernelspec": {
   "display_name": "Python 3",
   "language": "python",
   "name": "python3"
  },
  "language_info": {
   "codemirror_mode": {
    "name": "ipython",
    "version": 3
   },
   "file_extension": ".py",
   "mimetype": "text/x-python",
   "name": "python",
   "nbconvert_exporter": "python",
   "pygments_lexer": "ipython3",
   "version": "3.13.1"
  }
 },
 "nbformat": 4,
 "nbformat_minor": 5
}
