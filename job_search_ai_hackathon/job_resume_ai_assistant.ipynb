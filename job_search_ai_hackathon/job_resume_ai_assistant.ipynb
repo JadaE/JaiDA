{
 "cells": [
  {
   "cell_type": "markdown",
   "id": "1f55b5d4",
   "metadata": {},
   "source": [
    "# 🧠 Job Resume AI Assistant\n",
    "Welcome to your personal AI hackathon project! This notebook will guide you through building an AI assistant that helps tailor your resume to job descriptions using LangChain and Python."
   ]
  },
  {
   "cell_type": "markdown",
   "id": "04d6a811",
   "metadata": {},
   "source": [
    "## 1. 🛠️ Install Required Libraries"
   ]
  },
  {
   "cell_type": "code",
   "execution_count": null,
   "id": "db75b2b7",
   "metadata": {},
   "outputs": [],
   "source": [
    "!pip install langchain langgraph openai tiktoken chromadb faiss-cpu pypdf pylatexenc"
   ]
  },
  {
   "cell_type": "markdown",
   "id": "0c2736de",
   "metadata": {},
   "source": [
    "## 2. 🔑 Set Up API Keys"
   ]
  },
  {
   "cell_type": "code",
   "execution_count": null,
   "id": "cb36f6c1",
   "metadata": {},
   "outputs": [],
   "source": [
    "import os\n",
    "from keysNpasswords import openai\n",
    "\n",
    "# Set your OpenAI key here (or use dotenv or secret manager in production)\n",
    "os.environ['OPENAI_API_KEY'] = openai"
   ]
  },
  {
   "cell_type": "markdown",
   "id": "62ecfc9b",
   "metadata": {},
   "source": [
    "## 3. 📄 Load Your Resume (as Plaintext or Parsed from LaTeX)"
   ]
  },
  {
   "cell_type": "code",
   "execution_count": null,
   "id": "db2a0436",
   "metadata": {},
   "outputs": [],
   "source": [
    "from pathlib import Path\n",
    "\n",
    "# Load resume from LaTeX template or plaintext\n",
    "with open(\"data/resume.txt\", \"r\") as f:\n",
    "    resume_text = f.read()\n",
    "\n",
    "print(resume_text[:1000])  # Preview\n"
   ]
  },
  {
   "cell_type": "markdown",
   "id": "2ba95362",
   "metadata": {},
   "source": [
    "## 4. 📝 Input a Job Description"
   ]
  },
  {
   "cell_type": "code",
   "execution_count": null,
   "id": "fafb85f2",
   "metadata": {},
   "outputs": [],
   "source": [
    "job_description = \"\"\"Paste a job description here (or load from a file).\"\"\""
   ]
  },
  {
   "cell_type": "markdown",
   "id": "1b893662",
   "metadata": {},
   "source": [
    "## 5. 🧠 Compare Resume to Job Using LangChain & Embeddings"
   ]
  },
  {
   "cell_type": "code",
   "execution_count": null,
   "id": "c640c5d2",
   "metadata": {},
   "outputs": [],
   "source": [
    "from langchain.embeddings import OpenAIEmbeddings\n",
    "from langchain.vectorstores import FAISS\n",
    "from langchain.text_splitter import CharacterTextSplitter\n",
    "\n",
    "# Split and embed\n",
    "splitter = CharacterTextSplitter(chunk_size=500, chunk_overlap=50)\n",
    "texts = splitter.split_text(resume_text + \"\\n\\n\" + job_description)\n",
    "\n",
    "embeddings = OpenAIEmbeddings()\n",
    "vectorstore = FAISS.from_texts(texts, embeddings)\n",
    "\n",
    "# Search most relevant pieces\n",
    "query = \"What parts of my resume match or mismatch this job description?\"\n",
    "docs = vectorstore.similarity_search(query, k=5)\n",
    "for i, doc in enumerate(docs):\n",
    "    print(f\"Match {i+1}:\n",
    "\", doc.page_content, \"\\n\")\n"
   ]
  },
  {
   "cell_type": "markdown",
   "id": "efd09ee8",
   "metadata": {},
   "source": [
    "## 6. ✍️ Rewrite Resume Sections with LLM"
   ]
  },
  {
   "cell_type": "code",
   "execution_count": null,
   "id": "6d9deb26",
   "metadata": {},
   "outputs": [],
   "source": [
    "from langchain.chat_models import ChatOpenAI\n",
    "from langchain.prompts import PromptTemplate\n",
    "from langchain.chains import LLMChain\n",
    "\n",
    "template = \"\"\"You're a resume expert. Given a job description and an old resume section, rewrite it to better match the job. Make sure to limit the new resume to 1 page in length.\n",
    "\n",
    "Job Description:\n",
    "{job}\n",
    "\n",
    "Old Resume:\n",
    "{resume}\n",
    "\n",
    "Improved Resume:\n",
    "\"\"\"\n",
    "\n",
    "prompt = PromptTemplate(template=template, input_variables=[\"job\", \"resume\"])\n",
    "chain = LLMChain(llm=ChatOpenAI(temperature=0.4), prompt=prompt)\n",
    "\n",
    "new_summary = chain.run(job=job_description, resume=resume_text)\n",
    "print(new_summary)\n"
   ]
  },
  {
   "cell_type": "markdown",
   "id": "e8d3a1f4",
   "metadata": {},
   "source": [
    "## 7. 📄 Export Updated Resume to LaTeX and PDF"
   ]
  },
  {
   "cell_type": "code",
   "execution_count": null,
   "id": "41011b86",
   "metadata": {},
   "outputs": [],
   "source": [
    "from string import Template\n",
    "import subprocess\n",
    "\n",
    "with open(\"resume_template.tex\", \"r\") as f:\n",
    "    latex_template = Template(f.read())\n",
    "\n",
    "# Replace template fields with new content\n",
    "filled = latex_template.substitute(\n",
    "    summary=new_summary,\n",
    "    experience=\"TODO: Extract and rewrite experience\",\n",
    "    skills=\"TODO: Extract and rewrite skills\"\n",
    ")\n",
    "\n",
    "with open(\"output/final_resume.tex\", \"w\") as f:\n",
    "    f.write(filled)\n",
    "\n",
    "# Compile LaTeX to PDF\n",
    "subprocess.run([\"pdflatex\", \"-output-directory\", \"output\", \"output/final_resume.tex\"])\n",
    "print(\"✅ Resume PDF generated in output/final_resume.pdf\")\n"
   ]
  }
 ],
 "metadata": {
  "kernelspec": {
   "display_name": "Python 3",
   "language": "python",
   "name": "python3"
  },
  "language_info": {
   "name": "python",
   "version": "3.13.1"
  }
 },
 "nbformat": 4,
 "nbformat_minor": 5
}
